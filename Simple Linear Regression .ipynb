{
 "cells": [
  {
   "cell_type": "markdown",
   "id": "21fc4293",
   "metadata": {},
   "source": [
    "# Linear Regression"
   ]
  },
  {
   "cell_type": "markdown",
   "id": "3cd68de3",
   "metadata": {},
   "source": [
    "Dataset link: https://www.kaggle.com/karthickveerakumar/salary-data-simple-linear-regression  <br>\n",
    "This data set gives an insight on how salary varies with years of experience."
   ]
  },
  {
   "cell_type": "code",
   "execution_count": null,
   "id": "1f969652",
   "metadata": {},
   "outputs": [],
   "source": [
    "#importing all necessary libraries\n",
    "import pandas as pd\n",
    "import numpy as np\n",
    "import matplotlib.pyplot as plt\n",
    "import seaborn as sns\n",
    "from scipy import stats\n",
    "from sklearn import linear_model\n",
    "%matplotlib inline"
   ]
  },
  {
   "cell_type": "code",
   "execution_count": null,
   "id": "24b884f3",
   "metadata": {},
   "outputs": [],
   "source": [
    "#reading the csv file  \n",
    "data = pd.read_csv('LR2.csv')\n",
    "data.columns =['YearsExperience', 'Salary']\n",
    "data.head()"
   ]
  },
  {
   "cell_type": "code",
   "execution_count": null,
   "id": "7ca5af5c",
   "metadata": {},
   "outputs": [],
   "source": [
    "#using describe function to see various mathematical stats\n",
    "data.describe()"
   ]
  },
  {
   "cell_type": "code",
   "execution_count": null,
   "id": "fb8bbb4e",
   "metadata": {},
   "outputs": [],
   "source": [
    "#Plotting a scatter plot of the dataset\n",
    "data.plot(x='YearsExperience', y='Salary', style='x', color='blue')\n",
    "plt.title('Years of Experience vs Salary')\n",
    "plt.xlabel('Years of Experience')\n",
    "plt.ylabel('Salary')\n",
    "plt.show()"
   ]
  },
  {
   "cell_type": "code",
   "execution_count": null,
   "id": "4190ca90",
   "metadata": {},
   "outputs": [],
   "source": [
    "#regplot----> This method is used to plot data and a linear regression model fit.\n",
    "sns.regplot(x = \"YearsExperience\", y = \"Salary\", data = data, ci = None)"
   ]
  },
  {
   "cell_type": "code",
   "execution_count": null,
   "id": "db18f8cc",
   "metadata": {},
   "outputs": [],
   "source": [
    "X = data.YearsExperience\n",
    "Y = data.Salary\n",
    "\n",
    "plt.show()\n",
    "Xmean = np.mean(X)\n",
    "Ymean = np.mean(Y)\n",
    "\n",
    "a = 0\n",
    "b = 0\n",
    "for i in range(len(X)):\n",
    "    a += (X[i] - Xmean)*(Y[i] - Ymean)\n",
    "    b += (X[i] - Xmean)**2\n",
    "m = a / b\n",
    "c = Ymean - m*Xmean\n",
    "print (f'slope m = {m:.3f}')\n",
    "print(f'y intercept c = {c:.3f}')\n",
    "\n",
    "# or we can use the inbuilt function to make our work easier\n",
    "from scipy.stats import linregress\n",
    "print(linregress(X, Y))"
   ]
  },
  {
   "cell_type": "code",
   "execution_count": null,
   "id": "5c198fe4",
   "metadata": {},
   "outputs": [],
   "source": [
    "Y_predicted = m*X + c\n",
    "plt.scatter(X, Y) \n",
    "plt.plot([min(X), max(X)], [min(Y_predicted), max(Y_predicted)], color='orange')\n",
    "plt.title('Least Squares regression line through the scatter plot')\n",
    "plt.xlabel('Years of Experience')\n",
    "plt.ylabel('Salary')\n",
    "plt.show()\n",
    "print(Y_predicted)"
   ]
  },
  {
   "cell_type": "markdown",
   "id": "fc003d04",
   "metadata": {},
   "source": [
    "**Coefficient of determination** <br>\n",
    "The coefficient of determination is a measurement used to explain how much variability of one factor can be caused by its relationship to another related factor. "
   ]
  },
  {
   "cell_type": "code",
   "execution_count": null,
   "id": "59b13929",
   "metadata": {},
   "outputs": [],
   "source": [
    "#coefficient of determination\n",
    "x = data.YearsExperience\n",
    "y= data.Salary\n",
    "correlation_matrix = np.corrcoef(x, y)\n",
    "correlation_xy = correlation_matrix[0,1]\n",
    "rsquared = correlation_xy**2\n",
    "print(f'coefficient of determination = {rsquared:.4f}')"
   ]
  },
  {
   "cell_type": "markdown",
   "id": "98801efe",
   "metadata": {},
   "source": [
    "**Correlation coefficient** <br>\n",
    "The correlation coefficient is a statistical measure of the strength of the relationship between the relative movements of two variables."
   ]
  },
  {
   "cell_type": "code",
   "execution_count": null,
   "id": "648e5541",
   "metadata": {},
   "outputs": [],
   "source": [
    "#correlation coefficient\n",
    "print('Coefficient of Correlation')\n",
    "stats.pearsonr(data['YearsExperience'], data['Salary'])"
   ]
  },
  {
   "cell_type": "markdown",
   "id": "30a60a14",
   "metadata": {},
   "source": [
    "# Observations:"
   ]
  },
  {
   "cell_type": "markdown",
   "id": "b888db60",
   "metadata": {},
   "source": [
    "--The relationship between variable x(Years of experience) and variable y(Salary) is a positive linear regression relationship. <br>\n",
    "--It indicates a direct proportional relationship between x(Years of experience) and y(Salary) <br>\n",
    "--With this graph, we can predict the salary of an experienced individual with an accuracy of 95% (Correlation coefficient- denotes a strong positive relationship)"
   ]
  }
 ],
 "metadata": {
  "kernelspec": {
   "display_name": "Python 3",
   "language": "python",
   "name": "python3"
  },
  "language_info": {
   "codemirror_mode": {
    "name": "ipython",
    "version": 3
   },
   "file_extension": ".py",
   "mimetype": "text/x-python",
   "name": "python",
   "nbconvert_exporter": "python",
   "pygments_lexer": "ipython3",
   "version": "3.8.8"
  }
 },
 "nbformat": 4,
 "nbformat_minor": 5
}
